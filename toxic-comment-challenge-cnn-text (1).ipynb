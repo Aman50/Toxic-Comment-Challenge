{
 "cells": [
  {
   "cell_type": "markdown",
   "metadata": {},
   "source": [
    "# Toxic Comment Classification Challenge\n",
    "Given a comment, identify the following labels associated with it:\n",
    "* Toxic \n",
    "* Severetoxic\n",
    "* Obscene\n",
    "* threat\n",
    "* Insult\n",
    "* Identityhate\n",
    "\n",
    "This is a **multi-label classification**, meaning, that a comment can belong to zero or more labels at the same time.\n",
    "The evauation metric used has been mean column-wise ROC AUC. \n",
    "\n",
    "This notebook has been divided into following sections:\n",
    "\n",
    "1. Importing the libraries\n",
    "2. Reading the Training dataset\n",
    "3. Performing EDA\n",
    "4. Preprocessing of the Text\n",
    "5. Defining the Model\n",
    "6. Training\n",
    "7. Testing\n",
    "***\n",
    "### Importing the libraries  \n",
    "\n",
    "In the block below, required libraries for this notebook has been imported."
   ]
  },
  {
   "cell_type": "code",
   "execution_count": 1,
   "metadata": {
    "_cell_guid": "b1076dfc-b9ad-4769-8c92-a6c4dae69d19",
    "_uuid": "8f2839f25d086af736a60e9eeb907d3b93b6e0e5"
   },
   "outputs": [
    {
     "name": "stderr",
     "output_type": "stream",
     "text": [
      "Using TensorFlow backend.\n"
     ]
    }
   ],
   "source": [
    "\"\"\"Importing the required libraries\"\"\"\n",
    "\n",
    "import os\n",
    "import pandas as pd\n",
    "import numpy as np\n",
    "import matplotlib.pyplot as plt\n",
    "import seaborn as sns\n",
    "import re\n",
    "from nltk.stem import WordNetLemmatizer\n",
    "from nltk.corpus import stopwords\n",
    "from sklearn.model_selection import train_test_split\n",
    "from keras.preprocessing.text import Tokenizer\n",
    "from keras.preprocessing.sequence import pad_sequences\n",
    "from keras.callbacks import EarlyStopping, ModelCheckpoint\n",
    "from keras.models import load_model\n",
    "from keras.layers import *\n",
    "from keras import backend, Model"
   ]
  },
  {
   "cell_type": "markdown",
   "metadata": {},
   "source": [
    "### Reading the Training dataset"
   ]
  },
  {
   "cell_type": "code",
   "execution_count": 2,
   "metadata": {
    "_cell_guid": "79c7e3d0-c299-4dcb-8224-4455121ee9b0",
    "_uuid": "d629ff2d2480ee46fbb7e2d37f6b5fab8052498a"
   },
   "outputs": [],
   "source": [
    "\"\"\"Reading the training dataset and performing the EDA ( Exploratory Data Analysis ) in the upcoming cells\"\"\"\n",
    "\n",
    "path = '../input/'\n",
    "comp = 'jigsaw-toxic-comment-classification-challenge/'\n",
    "dataset = pd.read_csv('../input/train.csv')"
   ]
  },
  {
   "cell_type": "markdown",
   "metadata": {},
   "source": [
    "### Performing EDA  \n",
    "EDA is Exploratory Data Analysis which is basically analysis of the data you have been given before you can start working on it.\n"
   ]
  },
  {
   "cell_type": "code",
   "execution_count": 3,
   "metadata": {},
   "outputs": [
    {
     "name": "stdout",
     "output_type": "stream",
     "text": [
      "Number of rows in data =  159571\n",
      "Number of columns in data =  8\n",
      "\n",
      "\n",
      "---Sample data---\n"
     ]
    },
    {
     "data": {
      "text/html": [
       "<div>\n",
       "<style scoped>\n",
       "    .dataframe tbody tr th:only-of-type {\n",
       "        vertical-align: middle;\n",
       "    }\n",
       "\n",
       "    .dataframe tbody tr th {\n",
       "        vertical-align: top;\n",
       "    }\n",
       "\n",
       "    .dataframe thead th {\n",
       "        text-align: right;\n",
       "    }\n",
       "</style>\n",
       "<table border=\"1\" class=\"dataframe\">\n",
       "  <thead>\n",
       "    <tr style=\"text-align: right;\">\n",
       "      <th></th>\n",
       "      <th>id</th>\n",
       "      <th>comment_text</th>\n",
       "      <th>toxic</th>\n",
       "      <th>severe_toxic</th>\n",
       "      <th>obscene</th>\n",
       "      <th>threat</th>\n",
       "      <th>insult</th>\n",
       "      <th>identity_hate</th>\n",
       "    </tr>\n",
       "  </thead>\n",
       "  <tbody>\n",
       "    <tr>\n",
       "      <th>0</th>\n",
       "      <td>0000997932d777bf</td>\n",
       "      <td>Explanation\\nWhy the edits made under my usern...</td>\n",
       "      <td>0</td>\n",
       "      <td>0</td>\n",
       "      <td>0</td>\n",
       "      <td>0</td>\n",
       "      <td>0</td>\n",
       "      <td>0</td>\n",
       "    </tr>\n",
       "    <tr>\n",
       "      <th>1</th>\n",
       "      <td>000103f0d9cfb60f</td>\n",
       "      <td>D'aww! He matches this background colour I'm s...</td>\n",
       "      <td>0</td>\n",
       "      <td>0</td>\n",
       "      <td>0</td>\n",
       "      <td>0</td>\n",
       "      <td>0</td>\n",
       "      <td>0</td>\n",
       "    </tr>\n",
       "    <tr>\n",
       "      <th>2</th>\n",
       "      <td>000113f07ec002fd</td>\n",
       "      <td>Hey man, I'm really not trying to edit war. It...</td>\n",
       "      <td>0</td>\n",
       "      <td>0</td>\n",
       "      <td>0</td>\n",
       "      <td>0</td>\n",
       "      <td>0</td>\n",
       "      <td>0</td>\n",
       "    </tr>\n",
       "    <tr>\n",
       "      <th>3</th>\n",
       "      <td>0001b41b1c6bb37e</td>\n",
       "      <td>\"\\nMore\\nI can't make any real suggestions on ...</td>\n",
       "      <td>0</td>\n",
       "      <td>0</td>\n",
       "      <td>0</td>\n",
       "      <td>0</td>\n",
       "      <td>0</td>\n",
       "      <td>0</td>\n",
       "    </tr>\n",
       "    <tr>\n",
       "      <th>4</th>\n",
       "      <td>0001d958c54c6e35</td>\n",
       "      <td>You, sir, are my hero. Any chance you remember...</td>\n",
       "      <td>0</td>\n",
       "      <td>0</td>\n",
       "      <td>0</td>\n",
       "      <td>0</td>\n",
       "      <td>0</td>\n",
       "      <td>0</td>\n",
       "    </tr>\n",
       "  </tbody>\n",
       "</table>\n",
       "</div>"
      ],
      "text/plain": [
       "                 id      ...      identity_hate\n",
       "0  0000997932d777bf      ...                  0\n",
       "1  000103f0d9cfb60f      ...                  0\n",
       "2  000113f07ec002fd      ...                  0\n",
       "3  0001b41b1c6bb37e      ...                  0\n",
       "4  0001d958c54c6e35      ...                  0\n",
       "\n",
       "[5 rows x 8 columns]"
      ]
     },
     "execution_count": 3,
     "metadata": {},
     "output_type": "execute_result"
    }
   ],
   "source": [
    "\"\"\"Performing EDA ( Exploratory Data Analysis ) \"\"\"\n",
    "\n",
    "\n",
    "#Having a look at the data\n",
    "print(\"Number of rows in data = \", dataset.shape[0])\n",
    "print(\"Number of columns in data = \", dataset.shape[1])\n",
    "print(\"\\n\")\n",
    "print(\"---Sample data---\")\n",
    "dataset.head()"
   ]
  },
  {
   "cell_type": "markdown",
   "metadata": {},
   "source": [
    "***\n",
    "Having a look at the plot of Comments vs. Label.  \n",
    "This will give us the count of the comments belonging to each label.  \n",
    "**Note**: A comment can belong to several labels ( multi-label classification )"
   ]
  },
  {
   "cell_type": "code",
   "execution_count": 4,
   "metadata": {},
   "outputs": [
    {
     "data": {
      "image/png": "[encoded data removed]",
      "text/plain": [
       "<Figure size 1080x576 with 1 Axes>"
      ]
     },
     "metadata": {},
     "output_type": "display_data"
    }
   ],
   "source": [
    "\"\"\"Performing EDA ( Exploratory Data Analysis ) \"\"\"\n",
    "\n",
    "#Visualising the Training data : Number of comments vs. Label\n",
    "labels = dataset.columns.values[2:]\n",
    "labels_count = dataset.iloc[:, 2:].sum().values\n",
    "sns.set(font_scale = 2)\n",
    "plt.figure(figsize = (15, 8))\n",
    "fig = sns.barplot(labels, labels_count)\n",
    "plt.title(\"Comments vs. Label\", fontsize = 24)\n",
    "plt.ylabel('Number of comments', fontsize = 20)\n",
    "plt.xlabel('Label ', fontsize = 20)\n",
    "rects = fig.patches\n",
    "for rect, label in zip(rects, labels_count):\n",
    "    height = rect.get_height()\n",
    "    fig.text(rect.get_x() + rect.get_width()/2, height + 5, label, ha = 'center', va = 'bottom', fontsize = 18)\n",
    "plt.show()"
   ]
  },
  {
   "cell_type": "markdown",
   "metadata": {},
   "source": [
    "### Preprocessing of the Text\n",
    "\n",
    "Better the data, better the model. Henceforth, text will be preprocessed.  \n",
    "Preprocessing involves cleaning the data like, removing HTML tags, stop-words, non-ASCII characters, converting to lowercase etc."
   ]
  },
  {
   "cell_type": "code",
   "execution_count": 5,
   "metadata": {},
   "outputs": [],
   "source": [
    "\"\"\"Function for Text Preprocessing\"\"\"\n",
    "\n",
    "#Removing non-english symbols, HTML tags, converting to lower-case, lemmatizing, and finally removing the stop-words \n",
    "stop_words = set(stopwords.words(\"english\")) \n",
    "stop_words.update(['zero','one','two','three','four','five','six','seven','eight','nine','ten','may','also','across','among','beside','however','yet','within'])\n",
    "lemmatizer = WordNetLemmatizer()\n",
    "\n",
    "def clean_text(X):\n",
    "    processed = []\n",
    "    for text in X:\n",
    "        text = text[0]\n",
    "        text = re.sub(r'[^\\w\\s]', '',text, re.UNICODE)\n",
    "        text = re.sub('\\n', ' ',text, re.UNICODE)\n",
    "        text = re.sub('<.*?>', '', text)\n",
    "        text = text.lower()\n",
    "        text = [lemmatizer.lemmatize(token) for token in text.split(\" \")]\n",
    "        text = [lemmatizer.lemmatize(token, \"v\") for token in text]\n",
    "        text = [word for word in text if not word in stop_words]\n",
    "        processed.append(text)\n",
    "    return processed"
   ]
  },
  {
   "cell_type": "markdown",
   "metadata": {},
   "source": [
    "Preprocessing the data so as to prepare the Training set"
   ]
  },
  {
   "cell_type": "code",
   "execution_count": 6,
   "metadata": {},
   "outputs": [],
   "source": [
    "\"\"\"Getting the X and Y and preprocessing them\"\"\"\n",
    "\n",
    "X = dataset.iloc[:, 1:2].values\n",
    "y_train = dataset.iloc[:, 2:8].values\n",
    "X_train = clean_text(X)"
   ]
  },
  {
   "cell_type": "markdown",
   "metadata": {},
   "source": [
    "Tokenizing the comments and converting them into a sequence of integers of fixed length( maxlen ).  \n",
    "Neural networks are basically mathematical models, they can't accept characters."
   ]
  },
  {
   "cell_type": "code",
   "execution_count": 7,
   "metadata": {},
   "outputs": [],
   "source": [
    "\"\"\"Tokenization and Padding\"\"\"\n",
    "vocab_size = 10000\n",
    "maxlen = 250\n",
    "embed_dim = 20\n",
    "batch_size = 64\n",
    "tokenizer = Tokenizer()\n",
    "tokenizer.fit_on_texts(X_train)\n",
    "tokenized_word_list = tokenizer.texts_to_sequences(X_train)\n",
    "X_train_padded = pad_sequences(tokenized_word_list, maxlen = maxlen, padding='post')"
   ]
  },
  {
   "cell_type": "markdown",
   "metadata": {},
   "source": [
    "#### EarlyStopping  \n",
    "It can be used to prevent overfitting.It basically waits a few epochs (2), monitoring the loss for the validation dataset.If the loss doesn't decrease for 2 epochs, it stops the training process.\n",
    "\n",
    "#### ModelCheckpoint\n",
    "It is used for saving the best model during training. After each epoch, it takes a look at the Validation accuracy, if it improves globally, this is the best model we have seen till now during the training process and hence, saves it."
   ]
  },
  {
   "cell_type": "code",
   "execution_count": 8,
   "metadata": {},
   "outputs": [],
   "source": [
    "\"\"\"EarlyStopping and ModelCheckpoint\"\"\"\n",
    "\n",
    "es = EarlyStopping(monitor = 'val_loss', mode = 'min', verbose = 1, patience = 2)\n",
    "mc = ModelCheckpoint('model_best.h5', monitor = 'val_acc', mode = 'max', verbose = 1, save_best_only = True)"
   ]
  },
  {
   "cell_type": "markdown",
   "metadata": {},
   "source": [
    "### Defining the Model\n",
    "I have used TextCNN with 64 filters of size 3 and 5 each, followed by GlobalMaxPool (both 1-D) and concatenated their output\n"
   ]
  },
  {
   "cell_type": "code",
   "execution_count": 9,
   "metadata": {},
   "outputs": [
    {
     "name": "stdout",
     "output_type": "stream",
     "text": [
      "__________________________________________________________________________________________________\n",
      "Layer (type)                    Output Shape         Param #     Connected to                     \n",
      "==================================================================================================\n",
      "input_1 (InputLayer)            (None, 250)          0                                            \n",
      "__________________________________________________________________________________________________\n",
      "embedding_1 (Embedding)         (None, 250, 20)      200000      input_1[0][0]                    \n",
      "__________________________________________________________________________________________________\n",
      "conv1d_1 (Conv1D)               (None, 249, 32)      1312        embedding_1[0][0]                \n",
      "__________________________________________________________________________________________________\n",
      "conv1d_2 (Conv1D)               (None, 247, 32)      2592        embedding_1[0][0]                \n",
      "__________________________________________________________________________________________________\n",
      "global_max_pooling1d_1 (GlobalM (None, 32)           0           conv1d_1[0][0]                   \n",
      "__________________________________________________________________________________________________\n",
      "global_max_pooling1d_2 (GlobalM (None, 32)           0           conv1d_2[0][0]                   \n",
      "__________________________________________________________________________________________________\n",
      "concatenate_1 (Concatenate)     (None, 64)           0           global_max_pooling1d_1[0][0]     \n",
      "                                                                 global_max_pooling1d_2[0][0]     \n",
      "__________________________________________________________________________________________________\n",
      "dense_1 (Dense)                 (None, 32)           2080        concatenate_1[0][0]              \n",
      "__________________________________________________________________________________________________\n",
      "output_layer (Dense)            (None, 6)            198         dense_1[0][0]                    \n",
      "==================================================================================================\n",
      "Total params: 206,182\n",
      "Trainable params: 206,182\n",
      "Non-trainable params: 0\n",
      "__________________________________________________________________________________________________\n"
     ]
    }
   ],
   "source": [
    "\"\"\"Creating TextCNN model for comment classification\"\"\"\n",
    "\n",
    "#Defining the Layers of the model\n",
    "input_X = Input(shape=(maxlen, ))\n",
    "embed = Embedding(vocab_size, embed_dim)(input_X)\n",
    "conv_1 = Conv1D(filters = 32, kernel_size = 2, activation = 'relu', padding = 'valid')(embed)\n",
    "out_1 = GlobalMaxPooling1D()(conv_1)\n",
    "conv_2 = Conv1D(filters = 32, kernel_size = 4, activation = 'relu', padding = 'valid')(embed)\n",
    "out_2 = GlobalMaxPooling1D()(conv_2)\n",
    "conc = concatenate([out_1, out_2])\n",
    "dense1 = Dense(32, activation = 'relu')(conc)\n",
    "out = Dense(6, activation = 'sigmoid', name = 'output_layer')(dense1)\n",
    "\n",
    "#Defining the model now\n",
    "model = Model(input_X, out)\n",
    "model.compile(loss='binary_crossentropy', optimizer = 'adam', metrics=['accuracy'])\n",
    "model.summary()"
   ]
  },
  {
   "cell_type": "markdown",
   "metadata": {},
   "source": [
    "### Training\n",
    "Training the Model using 20% of the training set as validation set"
   ]
  },
  {
   "cell_type": "code",
   "execution_count": 10,
   "metadata": {},
   "outputs": [
    {
     "name": "stdout",
     "output_type": "stream",
     "text": [
      "Train on 127656 samples, validate on 31915 samples\n",
      "Epoch 1/10\n",
      "127656/127656 [==============================] - 20s 158us/step - loss: 0.1106 - acc: 0.9684 - val_loss: 0.0677 - val_acc: 0.9778\n",
      "\n",
      "Epoch 00001: val_acc improved from -inf to 0.97781, saving model to model_best.h5\n",
      "Epoch 2/10\n",
      "127656/127656 [==============================] - 13s 105us/step - loss: 0.0594 - acc: 0.9796 - val_loss: 0.0578 - val_acc: 0.9801\n",
      "\n",
      "Epoch 00002: val_acc improved from 0.97781 to 0.98006, saving model to model_best.h5\n",
      "Epoch 3/10\n",
      "127656/127656 [==============================] - 13s 104us/step - loss: 0.0519 - acc: 0.9814 - val_loss: 0.0545 - val_acc: 0.9808\n",
      "\n",
      "Epoch 00003: val_acc improved from 0.98006 to 0.98077, saving model to model_best.h5\n",
      "Epoch 4/10\n",
      "127656/127656 [==============================] - 13s 104us/step - loss: 0.0478 - acc: 0.9824 - val_loss: 0.0537 - val_acc: 0.9809\n",
      "\n",
      "Epoch 00004: val_acc improved from 0.98077 to 0.98086, saving model to model_best.h5\n",
      "Epoch 5/10\n",
      "127656/127656 [==============================] - 13s 103us/step - loss: 0.0451 - acc: 0.9830 - val_loss: 0.0536 - val_acc: 0.9811\n",
      "\n",
      "Epoch 00005: val_acc improved from 0.98086 to 0.98110, saving model to model_best.h5\n",
      "Epoch 6/10\n",
      "127656/127656 [==============================] - 13s 105us/step - loss: 0.0431 - acc: 0.9836 - val_loss: 0.0542 - val_acc: 0.9811\n",
      "\n",
      "Epoch 00006: val_acc improved from 0.98110 to 0.98112, saving model to model_best.h5\n",
      "Epoch 7/10\n",
      "127656/127656 [==============================] - 13s 104us/step - loss: 0.0407 - acc: 0.9842 - val_loss: 0.0544 - val_acc: 0.9808\n",
      "\n",
      "Epoch 00007: val_acc did not improve from 0.98112\n",
      "Epoch 00007: early stopping\n"
     ]
    },
    {
     "data": {
      "text/plain": [
       "<keras.callbacks.History at 0x7fd42746ef28>"
      ]
     },
     "execution_count": 10,
     "metadata": {},
     "output_type": "execute_result"
    }
   ],
   "source": [
    "\"\"\"Fitting the model\"\"\"\n",
    "X_train, X_val, y_train, y_val = train_test_split(X_train_padded, y_train, test_size = 0.2, random_state = 42, shuffle = True)\n",
    "model.fit(X_train, y_train, epochs = 10, batch_size = batch_size, verbose = 1, validation_data = [X_val, y_val], callbacks = [es, mc])"
   ]
  },
  {
   "cell_type": "markdown",
   "metadata": {},
   "source": [
    "### Testing\n",
    "Importing the test set and making it ready "
   ]
  },
  {
   "cell_type": "code",
   "execution_count": 11,
   "metadata": {},
   "outputs": [],
   "source": [
    "\"\"\"Importing the Test Data and making it ready to be passed to the Model\"\"\"\n",
    "\n",
    "dataset2 = pd.read_csv('../input/test.csv')\n",
    "X_test = dataset2.iloc[:, 1:2].values\n",
    "X_test = clean_text(X_test)\n",
    "tokenized_word_list = tokenizer.texts_to_sequences(X_test)\n",
    "X_test_padded = pad_sequences(tokenized_word_list, maxlen = maxlen, padding='post')"
   ]
  },
  {
   "cell_type": "code",
   "execution_count": 12,
   "metadata": {},
   "outputs": [
    {
     "name": "stdout",
     "output_type": "stream",
     "text": [
      "153164/153164 [==============================] - 1s 5us/step\n"
     ]
    }
   ],
   "source": [
    "\"\"\"Testing and creating the test results\"\"\"\n",
    "\n",
    "labels = [\"toxic\", \"severe_toxic\", \"obscene\", \"threat\", \"insult\", \"identity_hate\"]\n",
    "model = load_model('model_best.h5')\n",
    "y_test = model.predict(X_test_padded, batch_size = 512, verbose = 1)\n",
    "sample_submission = pd.read_csv(f'{path}sample_submission.csv')\n",
    "sample_submission[labels] = y_test\n",
    "sample_submission.to_csv('submission.csv', index = False)"
   ]
  },
  {
   "cell_type": "code",
   "execution_count": null,
   "metadata": {},
   "outputs": [],
   "source": []
  }
 ],
 "metadata": {
  "kernelspec": {
   "display_name": "Python 3",
   "language": "python",
   "name": "python3"
  },
  "language_info": {
   "codemirror_mode": {
    "name": "ipython",
    "version": 3
   },
   "file_extension": ".py",
   "mimetype": "text/x-python",
   "name": "python",
   "nbconvert_exporter": "python",
   "pygments_lexer": "ipython3",
   "version": "3.6.6"
  }
 },
 "nbformat": 4,
 "nbformat_minor": 1
}
